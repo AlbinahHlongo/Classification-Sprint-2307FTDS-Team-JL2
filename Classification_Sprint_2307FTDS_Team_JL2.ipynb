{
  "nbformat": 4,
  "nbformat_minor": 0,
  "metadata": {
    "colab": {
      "provenance": []
    },
    "kernelspec": {
      "name": "python3",
      "display_name": "Python 3"
    },
    "language_info": {
      "name": "python"
    }
  },
  "cells": [
    {
      "cell_type": "markdown",
      "source": [
        "# Classification Predict Student Solution\n",
        "\n",
        "© Explore Data Science Academy\n",
        "\n",
        "---\n",
        "### Honour Code\n",
        "\n",
        "I **Team, JL2**, confirm - by submitting this document - that the solutions in this notebook are a result of my own work and that I abide by the [EDSA honour code](https://drive.google.com/file/d/1QDCjGZJ8-FmJE3bZdIQNwnJyQKPhHZBn/view?usp=sharing).\n",
        "\n",
        "Non-compliance with the honour code constitutes a material breach of contract.\n",
        "\n",
        "### <u>__Predict Overview: EA - Twitter Sentiment Classification 2023-2024__</u>\n",
        "\n",
        "* To be continued\n"
      ],
      "metadata": {
        "id": "HM_AEUmlqmuf"
      }
    },
    {
      "cell_type": "markdown",
      "source": [
        "<a id=\"cont\"></a>\n",
        "\n",
        "## Table of Contents\n",
        "\n",
        "<a href=#one>1. Importing Packages</a>\n",
        "\n",
        "<a href=#two>2. Loading Data</a>\n",
        "\n",
        "<a href=#three>3. Exploratory Data Analysis (EDA)</a>\n",
        "\n",
        "<a href=#four>4. Text Preprocessing</a>\n",
        "\n",
        "<a href=#five>5. Feature Engineering</a>\n",
        "\n",
        "<a href=#six>6. Model Training</a>\n",
        "\n",
        "<a href=#seven>7. Model Perfomance</a>\n",
        "\n",
        "<a href=#eifght>8. Model Evaluation - Testing set</a>\n",
        "\n",
        "<a href=#nine>9. Best Model Explanation</a>"
      ],
      "metadata": {
        "id": "CYoZQGe4syBv"
      }
    },
    {
      "cell_type": "markdown",
      "source": [
        "# 1. Importing Packages\n"
      ],
      "metadata": {
        "id": "JxBn_lpJwkYV"
      }
    },
    {
      "cell_type": "code",
      "source": [
        "# Libraries of loading, manipulation and visualisation\n",
        "import pandas as pd\n",
        "import numpy as np\n",
        "import matplotlib.pyplot as plt\n",
        "import seaborn as sns\n",
        "\n",
        "# Libraries for data preparation and model building\n",
        "\n",
        "# Setting global constants to ensure notebook results are reproducible"
      ],
      "metadata": {
        "id": "TpvEdW8aqwg3"
      },
      "execution_count": null,
      "outputs": []
    },
    {
      "cell_type": "markdown",
      "source": [
        "# 2.Loading Data"
      ],
      "metadata": {
        "id": "qm9C8asexy6f"
      }
    },
    {
      "cell_type": "code",
      "source": [
        "# Load the data\n",
        "df_train = pd.read_csv()\n",
        "df_test =  pd.read_csv()"
      ],
      "metadata": {
        "id": "mdfQL5Jex3SU"
      },
      "execution_count": null,
      "outputs": []
    },
    {
      "cell_type": "markdown",
      "source": [
        "# 3. Exploratory Data Analysis (EDA)"
      ],
      "metadata": {
        "id": "XClHtoNfyZww"
      }
    },
    {
      "cell_type": "code",
      "source": [
        "# Shapes, Columns, Data types"
      ],
      "metadata": {
        "id": "ZdJibc5xymEs"
      },
      "execution_count": null,
      "outputs": []
    },
    {
      "cell_type": "markdown",
      "source": [
        "# 4. Text Preprocessing"
      ],
      "metadata": {
        "id": "cxmbXhPQyqqN"
      }
    },
    {
      "cell_type": "code",
      "source": [
        "# Tokenization, Removing stop words etc"
      ],
      "metadata": {
        "id": "ZOSyt1UNywa2"
      },
      "execution_count": null,
      "outputs": []
    },
    {
      "cell_type": "markdown",
      "source": [
        "# 5. Feature Engineering"
      ],
      "metadata": {
        "id": "vt8AtrAf9Rjz"
      }
    },
    {
      "cell_type": "code",
      "source": [],
      "metadata": {
        "id": "YX0TwfEo9X5v"
      },
      "execution_count": null,
      "outputs": []
    },
    {
      "cell_type": "markdown",
      "source": [
        "## Modeling preparation"
      ],
      "metadata": {
        "id": "5ORXu0wC1fbx"
      }
    },
    {
      "cell_type": "code",
      "source": [
        "# Feature Selection, Data Split, Data Scaling etc"
      ],
      "metadata": {
        "id": "33LzDKhS19iD"
      },
      "execution_count": null,
      "outputs": []
    },
    {
      "cell_type": "markdown",
      "source": [
        "# 6. Model Training"
      ],
      "metadata": {
        "id": "BJD0o92-1_Gq"
      }
    },
    {
      "cell_type": "code",
      "source": [
        "# Train Models"
      ],
      "metadata": {
        "id": "Vq5tFjDh2BtQ"
      },
      "execution_count": null,
      "outputs": []
    },
    {
      "cell_type": "markdown",
      "source": [
        "# 7. Model Perfomance"
      ],
      "metadata": {
        "id": "7ysxVRm-2C8T"
      }
    },
    {
      "cell_type": "code",
      "source": [
        "# Use various Metrics to evaluate each model's perfomance"
      ],
      "metadata": {
        "id": "44YY1-5W32T1"
      },
      "execution_count": 1,
      "outputs": []
    },
    {
      "cell_type": "markdown",
      "source": [
        "# 8. Model Evaluation - Testing set"
      ],
      "metadata": {
        "id": "lE3SZtXa7Lfd"
      }
    },
    {
      "cell_type": "code",
      "source": [
        "# Evaluate the best model on the testing set"
      ],
      "metadata": {
        "id": "p5dJkLbT4svE"
      },
      "execution_count": null,
      "outputs": []
    },
    {
      "cell_type": "markdown",
      "source": [
        "# 9. Best Model Explanation"
      ],
      "metadata": {
        "id": "SFH5_D504typ"
      }
    },
    {
      "cell_type": "code",
      "source": [],
      "metadata": {
        "id": "a_c98aaC42n4"
      },
      "execution_count": null,
      "outputs": []
    },
    {
      "cell_type": "markdown",
      "source": [
        "# Submission"
      ],
      "metadata": {
        "id": "thf_kIkT5lfF"
      }
    },
    {
      "cell_type": "code",
      "source": [
        "# Create a submission file"
      ],
      "metadata": {
        "id": "Dv0cE6Eu5pCZ"
      },
      "execution_count": null,
      "outputs": []
    }
  ]
}